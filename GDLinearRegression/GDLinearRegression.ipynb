{
  "cells": [
    {
      "cell_type": "markdown",
      "metadata": {
        "id": "-qn_7cKlm_AC"
      },
      "source": [
        "# Mini-Batch Gradient Descent Linear Regression\n",
        "\n",
        "Developed a **linear regression model** to predict product sales based on **advertising budgets for TV, radio, and newspaper channels** using **mini-batch gradient descent** for parameter optimization.  \n",
        "The project focused on implementing **gradient-based optimization from scratch**, demonstrating how iterative updates can efficiently approximate **least squares parameter estimates** without relying on closed-form solutions.\n",
        "\n",
        "Key aspects of the project included:  \n",
        "- **Vectorized implementation of mini-batch gradient descent** to accelerate computation for batch updates.  \n",
        "- **Dynamic parameter updates** with tunable **learning rate (α)** and **batch size** to explore convergence behavior.  \n",
        "- **Iterative training loop** to observe convergence to the optimal coefficients.  \n",
        "- **Visualization of model training**, including:  \n",
        "  - **Coefficient trajectories** for each feature and intercept across iterations.  \n",
        "  - **Cost function decay** (sum of squared errors) over iterations.  \n",
        "- **Performance evaluation** using **Mean Squared Error (MSE)** on the training set to quantify model fit.  \n",
        "\n",
        "This project highlights foundational **machine learning skills** in **linear model implementation, gradient-based optimization, and model convergence analysis**, which are directly applicable to **predictive analytics and real-world regression problems**.\n",
        "\n",
        "**Keywords:**  \n",
        "**linear regression**, **mini-batch gradient descent**, **vectorized computation**, **iterative optimization**, **coefficient trajectory visualization**, **cost function minimization**, **MSE evaluation**, **predictive modeling**"
      ]
    },
    {
      "cell_type": "code",
      "execution_count": 1,
      "metadata": {
        "id": "UcaOegHFC3Tc"
      },
      "outputs": [],
      "source": [
        "# imports\n",
        "import pandas as pd\n",
        "import numpy as np\n",
        "import matplotlib.pyplot as plt\n",
        "import os"
      ]
    },
    {
      "cell_type": "code",
      "execution_count": 2,
      "metadata": {
        "colab": {
          "base_uri": "https://localhost:8080/"
        },
        "id": "XH0d5EhwC7Td",
        "outputId": "e605a226-68e7-4271-fe32-5850ded8df21"
      },
      "outputs": [
        {
          "name": "stdout",
          "output_type": "stream",
          "text": [
            "Mounted at /content/gdrive\n"
          ]
        }
      ],
      "source": [
        "# Connect to Google Drive\n",
        "from google.colab import drive\n",
        "drive.mount('/content/gdrive')"
      ]
    },
    {
      "cell_type": "code",
      "execution_count": 3,
      "metadata": {
        "colab": {
          "base_uri": "https://localhost:8080/"
        },
        "id": "Oi4HCpKQC-Gp",
        "outputId": "d44d23e1-ec28-4019-9d8a-7493a104cb73"
      },
      "outputs": [
        {
          "name": "stdout",
          "output_type": "stream",
          "text": [
            "True\n"
          ]
        }
      ],
      "source": [
        "# Connect to data\n",
        "data = '/content/gdrive/My Drive/Advertising_N200_p3.csv'\n",
        "print(os.path.exists(data))"
      ]
    },
    {
      "cell_type": "code",
      "execution_count": 4,
      "metadata": {
        "colab": {
          "base_uri": "https://localhost:8080/",
          "height": 206
        },
        "id": "D3tMnMcCC_4d",
        "outputId": "1b9fb8b3-f0ff-41be-aa87-d6da1603d70a"
      },
      "outputs": [
        {
          "data": {
            "application/vnd.google.colaboratory.intrinsic+json": {
              "summary": "{\n  \"name\": \"df\",\n  \"rows\": 200,\n  \"fields\": [\n    {\n      \"column\": \"TV\",\n      \"properties\": {\n        \"dtype\": \"number\",\n        \"std\": 85.85423631490808,\n        \"min\": 0.7,\n        \"max\": 296.4,\n        \"num_unique_values\": 190,\n        \"samples\": [\n          287.6,\n          286.0,\n          78.2\n        ],\n        \"semantic_type\": \"\",\n        \"description\": \"\"\n      }\n    },\n    {\n      \"column\": \"radio\",\n      \"properties\": {\n        \"dtype\": \"number\",\n        \"std\": 14.846809176168724,\n        \"min\": 0.0,\n        \"max\": 49.6,\n        \"num_unique_values\": 167,\n        \"samples\": [\n          8.2,\n          36.9,\n          44.5\n        ],\n        \"semantic_type\": \"\",\n        \"description\": \"\"\n      }\n    },\n    {\n      \"column\": \"newspaper\",\n      \"properties\": {\n        \"dtype\": \"number\",\n        \"std\": 21.778620838522826,\n        \"min\": 0.3,\n        \"max\": 114.0,\n        \"num_unique_values\": 172,\n        \"samples\": [\n          22.3,\n          5.7,\n          17.0\n        ],\n        \"semantic_type\": \"\",\n        \"description\": \"\"\n      }\n    },\n    {\n      \"column\": \"sales\",\n      \"properties\": {\n        \"dtype\": \"number\",\n        \"std\": 5.217456565710478,\n        \"min\": 1.6,\n        \"max\": 27.0,\n        \"num_unique_values\": 121,\n        \"samples\": [\n          11.4,\n          21.2,\n          12.9\n        ],\n        \"semantic_type\": \"\",\n        \"description\": \"\"\n      }\n    }\n  ]\n}",
              "type": "dataframe",
              "variable_name": "df"
            },
            "text/html": [
              "\n",
              "  <div id=\"df-83f3fe10-9b57-4f6f-8258-63e615005859\" class=\"colab-df-container\">\n",
              "    <div>\n",
              "<style scoped>\n",
              "    .dataframe tbody tr th:only-of-type {\n",
              "        vertical-align: middle;\n",
              "    }\n",
              "\n",
              "    .dataframe tbody tr th {\n",
              "        vertical-align: top;\n",
              "    }\n",
              "\n",
              "    .dataframe thead th {\n",
              "        text-align: right;\n",
              "    }\n",
              "</style>\n",
              "<table border=\"1\" class=\"dataframe\">\n",
              "  <thead>\n",
              "    <tr style=\"text-align: right;\">\n",
              "      <th></th>\n",
              "      <th>TV</th>\n",
              "      <th>radio</th>\n",
              "      <th>newspaper</th>\n",
              "      <th>sales</th>\n",
              "    </tr>\n",
              "  </thead>\n",
              "  <tbody>\n",
              "    <tr>\n",
              "      <th>0</th>\n",
              "      <td>230.1</td>\n",
              "      <td>37.8</td>\n",
              "      <td>69.2</td>\n",
              "      <td>22.1</td>\n",
              "    </tr>\n",
              "    <tr>\n",
              "      <th>1</th>\n",
              "      <td>44.5</td>\n",
              "      <td>39.3</td>\n",
              "      <td>45.1</td>\n",
              "      <td>10.4</td>\n",
              "    </tr>\n",
              "    <tr>\n",
              "      <th>2</th>\n",
              "      <td>17.2</td>\n",
              "      <td>45.9</td>\n",
              "      <td>69.3</td>\n",
              "      <td>9.3</td>\n",
              "    </tr>\n",
              "    <tr>\n",
              "      <th>3</th>\n",
              "      <td>151.5</td>\n",
              "      <td>41.3</td>\n",
              "      <td>58.5</td>\n",
              "      <td>18.5</td>\n",
              "    </tr>\n",
              "    <tr>\n",
              "      <th>4</th>\n",
              "      <td>180.8</td>\n",
              "      <td>10.8</td>\n",
              "      <td>58.4</td>\n",
              "      <td>12.9</td>\n",
              "    </tr>\n",
              "  </tbody>\n",
              "</table>\n",
              "</div>\n",
              "    <div class=\"colab-df-buttons\">\n",
              "\n",
              "  <div class=\"colab-df-container\">\n",
              "    <button class=\"colab-df-convert\" onclick=\"convertToInteractive('df-83f3fe10-9b57-4f6f-8258-63e615005859')\"\n",
              "            title=\"Convert this dataframe to an interactive table.\"\n",
              "            style=\"display:none;\">\n",
              "\n",
              "  <svg xmlns=\"http://www.w3.org/2000/svg\" height=\"24px\" viewBox=\"0 -960 960 960\">\n",
              "    <path d=\"M120-120v-720h720v720H120Zm60-500h600v-160H180v160Zm220 220h160v-160H400v160Zm0 220h160v-160H400v160ZM180-400h160v-160H180v160Zm440 0h160v-160H620v160ZM180-180h160v-160H180v160Zm440 0h160v-160H620v160Z\"/>\n",
              "  </svg>\n",
              "    </button>\n",
              "\n",
              "  <style>\n",
              "    .colab-df-container {\n",
              "      display:flex;\n",
              "      gap: 12px;\n",
              "    }\n",
              "\n",
              "    .colab-df-convert {\n",
              "      background-color: #E8F0FE;\n",
              "      border: none;\n",
              "      border-radius: 50%;\n",
              "      cursor: pointer;\n",
              "      display: none;\n",
              "      fill: #1967D2;\n",
              "      height: 32px;\n",
              "      padding: 0 0 0 0;\n",
              "      width: 32px;\n",
              "    }\n",
              "\n",
              "    .colab-df-convert:hover {\n",
              "      background-color: #E2EBFA;\n",
              "      box-shadow: 0px 1px 2px rgba(60, 64, 67, 0.3), 0px 1px 3px 1px rgba(60, 64, 67, 0.15);\n",
              "      fill: #174EA6;\n",
              "    }\n",
              "\n",
              "    .colab-df-buttons div {\n",
              "      margin-bottom: 4px;\n",
              "    }\n",
              "\n",
              "    [theme=dark] .colab-df-convert {\n",
              "      background-color: #3B4455;\n",
              "      fill: #D2E3FC;\n",
              "    }\n",
              "\n",
              "    [theme=dark] .colab-df-convert:hover {\n",
              "      background-color: #434B5C;\n",
              "      box-shadow: 0px 1px 3px 1px rgba(0, 0, 0, 0.15);\n",
              "      filter: drop-shadow(0px 1px 2px rgba(0, 0, 0, 0.3));\n",
              "      fill: #FFFFFF;\n",
              "    }\n",
              "  </style>\n",
              "\n",
              "    <script>\n",
              "      const buttonEl =\n",
              "        document.querySelector('#df-83f3fe10-9b57-4f6f-8258-63e615005859 button.colab-df-convert');\n",
              "      buttonEl.style.display =\n",
              "        google.colab.kernel.accessAllowed ? 'block' : 'none';\n",
              "\n",
              "      async function convertToInteractive(key) {\n",
              "        const element = document.querySelector('#df-83f3fe10-9b57-4f6f-8258-63e615005859');\n",
              "        const dataTable =\n",
              "          await google.colab.kernel.invokeFunction('convertToInteractive',\n",
              "                                                    [key], {});\n",
              "        if (!dataTable) return;\n",
              "\n",
              "        const docLinkHtml = 'Like what you see? Visit the ' +\n",
              "          '<a target=\"_blank\" href=https://colab.research.google.com/notebooks/data_table.ipynb>data table notebook</a>'\n",
              "          + ' to learn more about interactive tables.';\n",
              "        element.innerHTML = '';\n",
              "        dataTable['output_type'] = 'display_data';\n",
              "        await google.colab.output.renderOutput(dataTable, element);\n",
              "        const docLink = document.createElement('div');\n",
              "        docLink.innerHTML = docLinkHtml;\n",
              "        element.appendChild(docLink);\n",
              "      }\n",
              "    </script>\n",
              "  </div>\n",
              "\n",
              "\n",
              "<div id=\"df-163eb98a-9a14-4413-a3ef-6bdff6a58987\">\n",
              "  <button class=\"colab-df-quickchart\" onclick=\"quickchart('df-163eb98a-9a14-4413-a3ef-6bdff6a58987')\"\n",
              "            title=\"Suggest charts\"\n",
              "            style=\"display:none;\">\n",
              "\n",
              "<svg xmlns=\"http://www.w3.org/2000/svg\" height=\"24px\"viewBox=\"0 0 24 24\"\n",
              "     width=\"24px\">\n",
              "    <g>\n",
              "        <path d=\"M19 3H5c-1.1 0-2 .9-2 2v14c0 1.1.9 2 2 2h14c1.1 0 2-.9 2-2V5c0-1.1-.9-2-2-2zM9 17H7v-7h2v7zm4 0h-2V7h2v10zm4 0h-2v-4h2v4z\"/>\n",
              "    </g>\n",
              "</svg>\n",
              "  </button>\n",
              "\n",
              "<style>\n",
              "  .colab-df-quickchart {\n",
              "      --bg-color: #E8F0FE;\n",
              "      --fill-color: #1967D2;\n",
              "      --hover-bg-color: #E2EBFA;\n",
              "      --hover-fill-color: #174EA6;\n",
              "      --disabled-fill-color: #AAA;\n",
              "      --disabled-bg-color: #DDD;\n",
              "  }\n",
              "\n",
              "  [theme=dark] .colab-df-quickchart {\n",
              "      --bg-color: #3B4455;\n",
              "      --fill-color: #D2E3FC;\n",
              "      --hover-bg-color: #434B5C;\n",
              "      --hover-fill-color: #FFFFFF;\n",
              "      --disabled-bg-color: #3B4455;\n",
              "      --disabled-fill-color: #666;\n",
              "  }\n",
              "\n",
              "  .colab-df-quickchart {\n",
              "    background-color: var(--bg-color);\n",
              "    border: none;\n",
              "    border-radius: 50%;\n",
              "    cursor: pointer;\n",
              "    display: none;\n",
              "    fill: var(--fill-color);\n",
              "    height: 32px;\n",
              "    padding: 0;\n",
              "    width: 32px;\n",
              "  }\n",
              "\n",
              "  .colab-df-quickchart:hover {\n",
              "    background-color: var(--hover-bg-color);\n",
              "    box-shadow: 0 1px 2px rgba(60, 64, 67, 0.3), 0 1px 3px 1px rgba(60, 64, 67, 0.15);\n",
              "    fill: var(--button-hover-fill-color);\n",
              "  }\n",
              "\n",
              "  .colab-df-quickchart-complete:disabled,\n",
              "  .colab-df-quickchart-complete:disabled:hover {\n",
              "    background-color: var(--disabled-bg-color);\n",
              "    fill: var(--disabled-fill-color);\n",
              "    box-shadow: none;\n",
              "  }\n",
              "\n",
              "  .colab-df-spinner {\n",
              "    border: 2px solid var(--fill-color);\n",
              "    border-color: transparent;\n",
              "    border-bottom-color: var(--fill-color);\n",
              "    animation:\n",
              "      spin 1s steps(1) infinite;\n",
              "  }\n",
              "\n",
              "  @keyframes spin {\n",
              "    0% {\n",
              "      border-color: transparent;\n",
              "      border-bottom-color: var(--fill-color);\n",
              "      border-left-color: var(--fill-color);\n",
              "    }\n",
              "    20% {\n",
              "      border-color: transparent;\n",
              "      border-left-color: var(--fill-color);\n",
              "      border-top-color: var(--fill-color);\n",
              "    }\n",
              "    30% {\n",
              "      border-color: transparent;\n",
              "      border-left-color: var(--fill-color);\n",
              "      border-top-color: var(--fill-color);\n",
              "      border-right-color: var(--fill-color);\n",
              "    }\n",
              "    40% {\n",
              "      border-color: transparent;\n",
              "      border-right-color: var(--fill-color);\n",
              "      border-top-color: var(--fill-color);\n",
              "    }\n",
              "    60% {\n",
              "      border-color: transparent;\n",
              "      border-right-color: var(--fill-color);\n",
              "    }\n",
              "    80% {\n",
              "      border-color: transparent;\n",
              "      border-right-color: var(--fill-color);\n",
              "      border-bottom-color: var(--fill-color);\n",
              "    }\n",
              "    90% {\n",
              "      border-color: transparent;\n",
              "      border-bottom-color: var(--fill-color);\n",
              "    }\n",
              "  }\n",
              "</style>\n",
              "\n",
              "  <script>\n",
              "    async function quickchart(key) {\n",
              "      const quickchartButtonEl =\n",
              "        document.querySelector('#' + key + ' button');\n",
              "      quickchartButtonEl.disabled = true;  // To prevent multiple clicks.\n",
              "      quickchartButtonEl.classList.add('colab-df-spinner');\n",
              "      try {\n",
              "        const charts = await google.colab.kernel.invokeFunction(\n",
              "            'suggestCharts', [key], {});\n",
              "      } catch (error) {\n",
              "        console.error('Error during call to suggestCharts:', error);\n",
              "      }\n",
              "      quickchartButtonEl.classList.remove('colab-df-spinner');\n",
              "      quickchartButtonEl.classList.add('colab-df-quickchart-complete');\n",
              "    }\n",
              "    (() => {\n",
              "      let quickchartButtonEl =\n",
              "        document.querySelector('#df-163eb98a-9a14-4413-a3ef-6bdff6a58987 button');\n",
              "      quickchartButtonEl.style.display =\n",
              "        google.colab.kernel.accessAllowed ? 'block' : 'none';\n",
              "    })();\n",
              "  </script>\n",
              "</div>\n",
              "\n",
              "    </div>\n",
              "  </div>\n"
            ],
            "text/plain": [
              "      TV  radio  newspaper  sales\n",
              "0  230.1   37.8       69.2   22.1\n",
              "1   44.5   39.3       45.1   10.4\n",
              "2   17.2   45.9       69.3    9.3\n",
              "3  151.5   41.3       58.5   18.5\n",
              "4  180.8   10.8       58.4   12.9"
            ]
          },
          "execution_count": 4,
          "metadata": {},
          "output_type": "execute_result"
        }
      ],
      "source": [
        "# Read the CSV\n",
        "df = pd.read_csv(data)\n",
        "df.head()"
      ]
    },
    {
      "cell_type": "code",
      "execution_count": 5,
      "metadata": {
        "id": "fZEJFMvEDBi5"
      },
      "outputs": [],
      "source": [
        "# Generate N-dimensional response vector\n",
        "y = df[\"sales\"].values"
      ]
    },
    {
      "cell_type": "code",
      "execution_count": 6,
      "metadata": {
        "colab": {
          "base_uri": "https://localhost:8080/"
        },
        "id": "NBMMjopQDEmg",
        "outputId": "8acbc9f6-fb72-4f39-cecc-ef975415c9ae"
      },
      "outputs": [
        {
          "name": "stdout",
          "output_type": "stream",
          "text": [
            "(200, 4)\n"
          ]
        }
      ],
      "source": [
        "# Create the Design Matrix\n",
        "X = df[[\"TV\", \"radio\", \"newspaper\"]].values\n",
        "\n",
        "# Get observations and features\n",
        "N = X.shape[0]\n",
        "p = X.shape[1]\n",
        "\n",
        "# Create ones column\n",
        "ones_column = np.ones((N, 1))\n",
        "\n",
        "# Create the Design Matrix (N x (p + 1))\n",
        "# Concatenate ones column to left side of original matrix\n",
        "X = np.hstack((ones_column, X))\n",
        "\n",
        "print(X.shape)\n",
        "#print(X)"
      ]
    },
    {
      "cell_type": "code",
      "execution_count": 7,
      "metadata": {
        "id": "qn2ZiyB6DJ__"
      },
      "outputs": [],
      "source": [
        "# Choose learning rate and batch size (n)\n",
        "alpha = 0.0000025\n",
        "n = 10\n",
        "\n",
        "# Number of iterations\n",
        "iterations = 20000\n",
        "\n",
        "\n",
        "B = N // n\n",
        "mixed_N = np.random.permutation(N)\n",
        "mini_batches = np.array_split(mixed_N, B)\n",
        "\n",
        "\n",
        "def gradientDescent(X, y, alpha, iterations, mini_batches, p):\n",
        "   betas = np.random.uniform(0, 1, size=(X.shape[1], 1))  # Initialize beta\n",
        "   betas_history = np.zeros((iterations, p + 1))  # Store beta coefficients over iterations\n",
        "   cost_history = np.zeros(iterations)  # Store cost values\n",
        "\n",
        "\n",
        "   for i in range(iterations):\n",
        "       # Shuffle batches every iteration\n",
        "       mixed_N = np.random.permutation(N)\n",
        "       mini_batches = np.array_split(mixed_N, B)\n",
        "\n",
        "       for batch in mini_batches:\n",
        "           X_b = X[batch]  # Shape (n, p)\n",
        "           y_b = y[batch].reshape(-1, 1)  # Reshape y_b to be (n, 1)\n",
        "\n",
        "\n",
        "           # Calculate the prediction error\n",
        "           y_pred = np.dot(X_b, betas)  # Predicted values (n, 1)\n",
        "           error = y_b - y_pred  # Error vector (n, 1)\n",
        "\n",
        "\n",
        "           # Calculate the gradient\n",
        "           gradient = -2 * np.dot(X_b.T, error)\n",
        "\n",
        "\n",
        "           # Update parameter vector β\n",
        "           betas = betas - (alpha * gradient)\n",
        "\n",
        "\n",
        "       # Store beta coefficients\n",
        "       betas_history[i, :] = betas.flatten()\n",
        "\n",
        "\n",
        "       # Calculate and store cost (sum of squared errors)\n",
        "       cost_history[i] = np.sum((y - np.dot(X, betas)) ** 2)\n",
        "\n",
        "\n",
        "   return betas_history, cost_history, betas"
      ]
    },
    {
      "cell_type": "code",
      "execution_count": 8,
      "metadata": {
        "id": "0OfjUS6bG0mc"
      },
      "outputs": [],
      "source": [
        "# Run gradient descent\n",
        "betas_history, cost_history, final_betas = gradientDescent(X, y, alpha, iterations, mini_batches, p)"
      ]
    },
    {
      "cell_type": "markdown",
      "metadata": {
        "id": "hdt4V0iUpMGC"
      },
      "source": [
        "# Deliverables"
      ]
    },
    {
      "cell_type": "markdown",
      "metadata": {
        "id": "jI-2-p6tDssU"
      },
      "source": [
        "## Deliverable 1: Effect of Iteration Number on Inferred Regression Coefficients"
      ]
    },
    {
      "cell_type": "code",
      "execution_count": 9,
      "metadata": {
        "colab": {
          "base_uri": "https://localhost:8080/",
          "height": 564
        },
        "id": "egGTqpOrG5Sd",
        "outputId": "6ec5aa28-e32a-4f75-9d67-45ab43e2e218"
      },
      "outputs": [
        {
          "data": {
            "image/png": "[encoded data removed]",
            "text/plain": [
              "<Figure size 1000x600 with 1 Axes>"
            ]
          },
          "metadata": {},
          "output_type": "display_data"
        }
      ],
      "source": [
        "# Effect of Iteration on Inferred Regression Coefficients\n",
        "plt.figure(figsize=(10, 6))\n",
        "\n",
        "# Plot each coefficient over iterations\n",
        "plt.plot(range(iterations), betas_history[:, 0], label='Intercept (B0)')\n",
        "plt.plot(range(iterations), betas_history[:, 1], label='TV (B1)')\n",
        "plt.plot(range(iterations), betas_history[:, 2], label='Radio (B2)')\n",
        "plt.plot(range(iterations), betas_history[:, 3], label='Newspaper (B3)')\n",
        "\n",
        "# Show Plot\n",
        "plt.xlabel('Iteration Number')\n",
        "plt.ylabel('Coefficient Value (Bj)')\n",
        "plt.title('Effect of Iteration Number on Inferred Regression Coefficients')\n",
        "plt.legend()\n",
        "plt.show()"
      ]
    },
    {
      "cell_type": "markdown",
      "metadata": {
        "id": "6fUisUtsyh-z"
      },
      "source": [
        "## Deliverable 2: Effect of Iteration Number on Cost"
      ]
    },
    {
      "cell_type": "code",
      "execution_count": 10,
      "metadata": {
        "colab": {
          "base_uri": "https://localhost:8080/",
          "height": 564
        },
        "id": "dB1rb93ZG4uE",
        "outputId": "b96bcafc-65cd-4d35-d8f3-d0c2b715f52d"
      },
      "outputs": [
        {
          "data": {
            "image/png": "[encoded data removed]",
            "text/plain": [
              "<Figure size 1000x600 with 1 Axes>"
            ]
          },
          "metadata": {},
          "output_type": "display_data"
        }
      ],
      "source": [
        "plt.figure(figsize=(10, 6))\n",
        "plt.plot(range(iterations), cost_history, color='purple')\n",
        "plt.xlabel(\"Iteration\")\n",
        "plt.ylabel(\"Cost\")\n",
        "plt.title(\"Effect of Iteration Number on the Cost\")\n",
        "plt.show()"
      ]
    },
    {
      "cell_type": "markdown",
      "metadata": {
        "id": "M2WSsdMByjUu"
      },
      "source": [
        "## Deliverable 3: Estimates of Best-Fit Model Parameters"
      ]
    },
    {
      "cell_type": "code",
      "execution_count": 11,
      "metadata": {
        "colab": {
          "base_uri": "https://localhost:8080/"
        },
        "id": "3B8EKtU2HM9k",
        "outputId": "8c52fe4d-c061-49e2-d5f1-2e8b1d416a59"
      },
      "outputs": [
        {
          "name": "stdout",
          "output_type": "stream",
          "text": [
            "Estimated best-fit model parameters (beta hat):\n",
            "[[ 2.8230316 ]\n",
            " [ 0.03662778]\n",
            " [ 0.18796509]\n",
            " [-0.00304078]]\n"
          ]
        }
      ],
      "source": [
        "# Estimates of the best-fit model parameters\n",
        "beta_hat = final_betas\n",
        "\n",
        "print(\"Estimated best-fit model parameters (beta hat):\")\n",
        "print(beta_hat)"
      ]
    },
    {
      "cell_type": "markdown",
      "metadata": {
        "id": "hf2mb2vAypmS"
      },
      "source": [
        "## Deliverable 4: Computed Mean Squared Error (MSE)"
      ]
    },
    {
      "cell_type": "code",
      "execution_count": 12,
      "metadata": {
        "colab": {
          "base_uri": "https://localhost:8080/"
        },
        "id": "QufqAgH-H2mf",
        "outputId": "2a01b0ad-4db9-4f32-cdcc-e2835f8e2fed"
      },
      "outputs": [
        {
          "name": "stdout",
          "output_type": "stream",
          "text": [
            "Mean Squared Error (MSE): 5.755474938152055\n"
          ]
        }
      ],
      "source": [
        "# Compute mean squared error (MSE) using final beta\n",
        "y_pred = np.dot(X, beta_hat)\n",
        "MSE = np.square(np.subtract(y.flatten(), y_pred.flatten())).mean()  # Making y and y_pred 1D\n",
        "print(f\"Mean Squared Error (MSE): {MSE}\")"
      ]
    }
  ],
  "metadata": {
    "colab": {
      "provenance": []
    },
    "kernelspec": {
      "display_name": "Python 3",
      "name": "python3"
    },
    "language_info": {
      "name": "python"
    }
  },
  "nbformat": 4,
  "nbformat_minor": 0
}
